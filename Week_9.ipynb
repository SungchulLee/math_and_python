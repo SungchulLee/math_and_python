{
 "cells": [
  {
   "cell_type": "code",
   "execution_count": 1,
   "metadata": {},
   "outputs": [
    {
     "name": "stdout",
     "output_type": "stream",
     "text": [
      "수학:80.0점, 생명과학:100.0점, 화학:87.5점, 지구과학:43.0점\n",
      "평균은 77.625점 입니다\n",
      "157.0\n"
     ]
    }
   ],
   "source": [
    "# 이미나\n",
    "\n",
    "class Students:\n",
    "    \n",
    "    def __init__ (self, math, biology, chemistry, earth):\n",
    "        self.math = math\n",
    "        self.biology = biology\n",
    "        self.chemistry = chemistry\n",
    "        self.earth = earth\n",
    "\n",
    "    def score(self):\n",
    "        return '수학:{}점, 생명과학:{}점, 화학:{}점, 지구과학:{}점'.format(self.math, self.biology, self.chemistry, self.earth)\n",
    "\n",
    "    def ave(self):\n",
    "        return '평균은 {}점 입니다'.format((self.math + self.biology + self.chemistry + self.earth)/4)\n",
    "                                                 # (를 {로 쓰면 집합이 되어버려서 연산이 안되네요.\n",
    "    def __add__(self, self2):\n",
    "        return self.math + self2.math      #3개 이상을 더할 수는 없는지 궁금합니다.\n",
    "\n",
    "\n",
    "stu_1 = Students(80., 100., 87.5, 43.)\n",
    "stu_2 = Students(77., 38., 99., 75.5)\n",
    "stu_3 = Students(64.5, 80., 55., 90.)\n",
    "\n",
    "print(stu_1.score())\n",
    "print(stu_1.ave())\n",
    "print(stu_1 + stu_2)"
   ]
  },
  {
   "cell_type": "code",
   "execution_count": 2,
   "metadata": {},
   "outputs": [
    {
     "name": "stdout",
     "output_type": "stream",
     "text": [
      "7\n",
      "12\n",
      "-1\n",
      "0.75\n",
      "70\n",
      "1200\n",
      "-10\n",
      "0.75\n"
     ]
    }
   ],
   "source": [
    "# 박영욱\n",
    "\n",
    "class FourCal:\n",
    "    \n",
    "    def __init__(self, first, second):\n",
    "        self.first = first\n",
    "        self.second = second\n",
    "        \n",
    "    def add(self):\n",
    "        return self.first + self.second\n",
    "    \n",
    "    def mul(self):\n",
    "        return self.first * self.second\n",
    "    \n",
    "    def sub(self):\n",
    "        return self.first - self.second\n",
    "    \n",
    "    def div(self):\n",
    "        return self.first / self.second\n",
    "\n",
    "a = FourCal(3,4)\n",
    "print(a.add())\n",
    "print(a.mul())\n",
    "print(a.sub())\n",
    "print(a.div())\n",
    "b = FourCal(30,40)\n",
    "print(b.add())\n",
    "print(b.mul())\n",
    "print(b.sub())\n",
    "print(b.div())"
   ]
  },
  {
   "cell_type": "code",
   "execution_count": 3,
   "metadata": {},
   "outputs": [
    {
     "data": {
      "text/plain": [
       "6"
      ]
     },
     "execution_count": 3,
     "metadata": {},
     "output_type": "execute_result"
    }
   ],
   "source": [
    "# 어정규\n",
    "\n",
    "class FourCal:\n",
    "    \n",
    "    def __init__(self, first, second):\n",
    "        self.first = first\n",
    "        self.second = second\n",
    "        \n",
    "    def add(self):\n",
    "        return self.first + self.second\n",
    "    \n",
    "    def mul(self):\n",
    "        return self.first * self.second\n",
    "    \n",
    "    def sub(self):\n",
    "        return self.first - self.second\n",
    "    \n",
    "    def div(self):\n",
    "        return self.first / self.second\n",
    "    \n",
    "    \n",
    "a = FourCal(4, 2)\n",
    "b = FourCal(3, 7)\n",
    "\n",
    "a.add()"
   ]
  },
  {
   "cell_type": "code",
   "execution_count": 11,
   "metadata": {},
   "outputs": [
    {
     "name": "stdout",
     "output_type": "stream",
     "text": [
      "내신 등급\n",
      "1등급은 4%입니다.\n",
      "1등급은 4%입니다.\n",
      "2등급은 11%입니다.\n",
      "2등급은 11%입니다.\n",
      "3등급은 23%입니다.\n",
      "3등급은 23%입니다.\n",
      "4등급은 40%입니다.\n",
      "4등급은 40%입니다.\n",
      "5등급은 60%입니다.\n",
      "5등급은 60%입니다.\n",
      "6등급은 77%입니다.\n",
      "6등급은 77%입니다.\n",
      "7등급은 89%입니다.\n",
      "7등급은 89%입니다.\n",
      "8등급은 96%입니다.\n",
      "8등급은 96%입니다.\n",
      "9등급은 100%입니다.\n",
      "9등급은 100%입니다.\n",
      "\n",
      "전체 학생 수를 입력하세요. 200\n",
      "\n",
      "전체 200 명의 학생 중 에서\n",
      "\n",
      "1등급은 8.0등 까지 입니다.\n",
      "\n",
      "2등급은 22.0등 까지 입니다.\n",
      "\n",
      "3등급은 46.0등 까지 입니다.\n",
      "\n",
      "4등급은 80.0등 까지 입니다.\n",
      "\n",
      "5등급은 120.0등 까지 입니다.\n",
      "\n",
      "6등급은 154.0등 까지 입니다.\n",
      "\n",
      "7등급은 178.0등 까지 입니다.\n",
      "\n",
      "8등급은 192.0등 까지 입니다.\n",
      "\n",
      "9등급은 200.0등 까지 입니다.\n"
     ]
    }
   ],
   "source": [
    "# 최성훈\n",
    "\n",
    "import numpy as np\n",
    "\n",
    "class Grade:\n",
    "    print(\"내신 등급\")\n",
    "    def __init__(self, rank, rate):\n",
    "        self.rank = rank\n",
    "        self.rate = rate\n",
    "        \n",
    "    def __str__(self):\n",
    "        return \"{}등급은 {}%입니다.\".format(self.rank,self.rate)\n",
    "    \n",
    "rank = [i for i in range(1,10)]\n",
    "rate = [4, 11, 23, 40, 60, 77, 89, 96, 100 ]\n",
    "\n",
    "for j in range(9):   \n",
    "    score=Grade(rank[j],rate[j])\n",
    "    print(score)\n",
    "    print(score.__str__())\n",
    "    \n",
    "# 내신 등급 산출 \n",
    "\n",
    "print()\n",
    "\n",
    "tot = input(\"전체 학생 수를 입력하세요. \")\n",
    "print()\n",
    "print(\"전체 {} 명의 학생 중 에서\". format(tot))\n",
    "\n",
    "rate=[0.04, 0.11, 0.23, 0.4, 0.6, 0.77, 0.89, 0.96, 1]\n",
    "\n",
    "for i in range(9):\n",
    "    rank = int(tot)*rate[i]\n",
    "    print()\n",
    "    print(\"{}등급은 {}등 까지 입니다.\".format(i+1,np.ceil(rank)))"
   ]
  },
  {
   "cell_type": "code",
   "execution_count": 14,
   "metadata": {},
   "outputs": [
    {
     "name": "stdout",
     "output_type": "stream",
     "text": [
      "Seoul Yonsei Middle School\n",
      "1000\n",
      "900\n"
     ]
    }
   ],
   "source": [
    "# 한제희\n",
    "\n",
    "class School:\n",
    "    \n",
    "    raise_amount = 0.9\n",
    "    \n",
    "    def __init__(self, city, name, classification, enrollment):\n",
    "        self.city = city \n",
    "        self.name = name\n",
    "        self.classification = classification\n",
    "        self.enrollment = enrollment\n",
    "        \n",
    "    def fullname(self): \n",
    "        return '{} {} {}'.format(self.city, self.name, self.classification)\n",
    "    \n",
    "    def apply_raise(self):\n",
    "        self.enrollment = int(self.enrollment * School.raise_amount)\n",
    "\n",
    "sch_1 = School('Seoul', 'Yonsei', 'Middle School', 1000)\n",
    "\n",
    "print(sch_1.fullname())\n",
    "print(sch_1.enrollment)\n",
    "sch_1.apply_raise()\n",
    "print(sch_1.enrollment)"
   ]
  },
  {
   "cell_type": "code",
   "execution_count": 15,
   "metadata": {},
   "outputs": [
    {
     "name": "stdout",
     "output_type": "stream",
     "text": [
      "Math\n",
      "Science\n"
     ]
    }
   ],
   "source": [
    "# 박소현\n",
    "\n",
    "class subject:\n",
    "    pass\n",
    "\n",
    "\n",
    "# 스튜피드한 방법으로\n",
    "sub_1 = subject()\n",
    "sub_2 = subject()\n",
    "\n",
    "sub_1.first = 'Korean'\n",
    "sub_1.second = 'Math'\n",
    "sub_1.third = 'English'\n",
    "\n",
    "sub_2.first = 'Science'\n",
    "sub_2.second = 'Society'\n",
    "sub_2.third = 'Music'\n",
    "\n",
    "print(sub_1.second)\n",
    "print(sub_2.first)"
   ]
  },
  {
   "cell_type": "code",
   "execution_count": 16,
   "metadata": {},
   "outputs": [
    {
     "name": "stdout",
     "output_type": "stream",
     "text": [
      "English\n",
      "{'first': 'Korean', 'second': 'Math', 'third': 'English'}\n",
      "SocietyScience\n"
     ]
    }
   ],
   "source": [
    "# 박소현\n",
    "\n",
    "# 스마트하게\n",
    "class Subject:\n",
    "    def __init__(self, first, second, third):\n",
    "        self.first = first\n",
    "        self.second = second\n",
    "        self.third = third\n",
    "        \n",
    "        \n",
    "sub_1 = Subject('Korean', 'Math', 'English')\n",
    "sub_2 = Subject('Science', 'Society', 'Music')\n",
    "\n",
    "print(sub_1.third)\n",
    "print(sub_1.__dict__)\n",
    "\n",
    "#메쏘드 사용하기\n",
    "\n",
    "print('{}{}'. format(sub_2.second, sub_2.first))"
   ]
  },
  {
   "cell_type": "code",
   "execution_count": 18,
   "metadata": {},
   "outputs": [
    {
     "name": "stdout",
     "output_type": "stream",
     "text": [
      "Korean\n",
      "Science\n",
      "Korean Math\n"
     ]
    }
   ],
   "source": [
    "# 박소현\n",
    "\n",
    "class Subject:\n",
    "    def __init__(self, first, second, third):\n",
    "        self.first = first\n",
    "        self.second = second\n",
    "        self.third = third\n",
    "        \n",
    "    def fulltime(self):\n",
    "        return '{} {}'.format(self.first, self.second)\n",
    "\n",
    "    \n",
    "sub_1 = Subject('Korean', 'Math', 'English')\n",
    "sub_2 = Subject('Science', 'Society', 'Music')\n",
    "\n",
    "print(sub_1.first)\n",
    "print(sub_2.first)\n",
    "\n",
    "# 왜 에러가 나는지 모르겠음.\n",
    "\n",
    "print(sub_1.fulltime())"
   ]
  },
  {
   "cell_type": "code",
   "execution_count": 1,
   "metadata": {},
   "outputs": [
    {
     "name": "stdout",
     "output_type": "stream",
     "text": [
      "(-0.33333333333333331, 1.0)\n",
      "(2, -6)\n",
      "(0, 1, 1.0, -1.0)\n"
     ]
    },
    {
     "data": {
      "image/png": "[encoded data removed]",
      "text/plain": [
       "<matplotlib.figure.Figure at 0x1062374e0>"
      ]
     },
     "metadata": {
      "needs_background": "light"
     },
     "output_type": "display_data"
    }
   ],
   "source": [
    "import numpy as np\n",
    "import matplotlib.pyplot as plt\n",
    "\n",
    "%matplotlib inline\n",
    "\n",
    "class Poly:\n",
    "    \n",
    "    def __init__(self, a0, a1, a2):\n",
    "        self.a0 = a0 # 상수항\n",
    "        self.a1 = a1 # 1차항\n",
    "        self.a2 = a2 # 2차항\n",
    "        \n",
    "    def root(self):\n",
    "        d = self.a1**2 - 4*self.a0*self.a2\n",
    "        upper1 = - self.a1 + np.sqrt(d) \n",
    "        upper2 = - self.a1 - np.sqrt(d) \n",
    "        return (upper1/(2*self.a2), upper2/(2*self.a2))\n",
    "    \n",
    "    def diff(self):\n",
    "        return (self.a1, 2*self.a2)\n",
    "    \n",
    "    def integral(self):\n",
    "        return (0, self.a0, self.a1/2, self.a2/3)\n",
    "    \n",
    "    def plot(self):\n",
    "        x = np.linspace(-10,10,100)\n",
    "        y = self.a0 + self.a1 * x + self.a2 * x**2\n",
    "        plt.plot(x,y)\n",
    "        plt.show()\n",
    "\n",
    "p1 = Poly(1,2,-3)\n",
    "print(p1.root())\n",
    "print(p1.diff())\n",
    "print(p1.integral())\n",
    "p1.plot()"
   ]
  },
  {
   "cell_type": "code",
   "execution_count": null,
   "metadata": {},
   "outputs": [],
   "source": []
  }
 ],
 "metadata": {
  "kernelspec": {
   "display_name": "Python 3",
   "language": "python",
   "name": "python3"
  },
  "language_info": {
   "codemirror_mode": {
    "name": "ipython",
    "version": 3
   },
   "file_extension": ".py",
   "mimetype": "text/x-python",
   "name": "python",
   "nbconvert_exporter": "python",
   "pygments_lexer": "ipython3",
   "version": "3.6.8"
  }
 },
 "nbformat": 4,
 "nbformat_minor": 2
}
