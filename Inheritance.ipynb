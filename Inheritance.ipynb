{
 "cells": [
  {
   "cell_type": "code",
   "execution_count": 5,
   "metadata": {},
   "outputs": [
    {
     "name": "stdout",
     "output_type": "stream",
     "text": [
      "55\n",
      "55\n",
      "[ 1  3  6 10 15 21 28 36 45 55]\n",
      "55\n",
      "[ 1  3  6 10 15 21 28 36 45 55]\n",
      "3628800\n"
     ]
    }
   ],
   "source": [
    "import numpy as np\n",
    "\n",
    "\n",
    "class Basic:   \n",
    "    def __init__(self, *args):\n",
    "        self.chunk = np.array(args)        \n",
    "    def add(self):\n",
    "        return np.sum(self.chunk)\n",
    "\n",
    "    \n",
    "a = Basic(1,2,3,4,5,6,7,8,9,10)\n",
    "print(a.add())\n",
    "    \n",
    "    \n",
    "class Advanced(Basic):    \n",
    "    def cumadd(self):\n",
    "        return np.cumsum(self.chunk)\n",
    "\n",
    "    \n",
    "a = Advanced(1,2,3,4,5,6,7,8,9,10)\n",
    "print(a.add())\n",
    "print(a.cumadd())\n",
    "\n",
    "\n",
    "class Supper(Advanced): \n",
    "    def prod(self):\n",
    "        return np.prod(self.chunk)\n",
    "\n",
    "    \n",
    "a = Supper(1,2,3,4,5,6,7,8,9,10)\n",
    "print(a.add())\n",
    "print(a.cumadd())\n",
    "print(a.prod())"
   ]
  },
  {
   "cell_type": "code",
   "execution_count": null,
   "metadata": {},
   "outputs": [],
   "source": []
  }
 ],
 "metadata": {
  "kernelspec": {
   "display_name": "Python [conda env:anaconda3]",
   "language": "python",
   "name": "conda-env-anaconda3-py"
  },
  "language_info": {
   "codemirror_mode": {
    "name": "ipython",
    "version": 3
   },
   "file_extension": ".py",
   "mimetype": "text/x-python",
   "name": "python",
   "nbconvert_exporter": "python",
   "pygments_lexer": "ipython3",
   "version": "3.5.0"
  }
 },
 "nbformat": 4,
 "nbformat_minor": 2
}
