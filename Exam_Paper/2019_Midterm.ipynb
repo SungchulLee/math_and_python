{
 "cells": [
  {
   "cell_type": "markdown",
   "metadata": {},
   "source": [
    "# 2019-Spring-Midterm"
   ]
  },
  {
   "cell_type": "markdown",
   "metadata": {},
   "source": [
    "학번:\n",
    "\n",
    "이름:"
   ]
  },
  {
   "cell_type": "markdown",
   "metadata": {},
   "source": [
    "<a href=\"#1\">1 (10점)</a>\n",
    "\n",
    "<a href=\"#2\">2 (10점)</a>\n",
    "\n",
    "<a href=\"#3\">3 (10점)</a>\n",
    "\n",
    "<a href=\"#4\">4 (10점)</a>\n",
    "\n",
    "<a href=\"#5\">5 (10점)</a>"
   ]
  },
  {
   "cell_type": "markdown",
   "metadata": {},
   "source": [
    "# 1 \n",
    "I love 2 go to the caffe 7 times a week. 이라는 스트링에서 e를 제거하여 새로운 스트링을 만드시오.\n",
    "\n",
    "```\n",
    "string = 'I love 2 go to the caffe 7 times a week.'\n",
    "\n",
    "### put your code below\n",
    "list_without_e = ### put your code here\n",
    "### put your code above\n",
    "\n",
    "string_without_e = ''\n",
    "for i in list_without_e:\n",
    "    string_without_e += i\n",
    "    \n",
    "print(string_without_e)\n",
    "```"
   ]
  },
  {
   "cell_type": "markdown",
   "metadata": {},
   "source": [
    "[정답](https://youtu.be/9bqWxej-x6M)"
   ]
  },
  {
   "cell_type": "code",
   "execution_count": 3,
   "metadata": {},
   "outputs": [
    {
     "name": "stdout",
     "output_type": "stream",
     "text": [
      "['I lov', ' 2 go to th', ' caff', ' 7 tim', 's a w', '', 'k.']\n",
      "I lov 2 go to th caff 7 tims a wk.\n"
     ]
    }
   ],
   "source": [
    "# solution\n",
    "\n",
    "string = 'I love 2 go to the caffe 7 times a week.'\n",
    "\n",
    "if 0:\n",
    "    list_without_e = [i for i in string if i != 'e']\n",
    "    print(list_without_e)\n",
    "elif 1:\n",
    "    list_without_e = string.split('e')\n",
    "    #list_without_e = string.split()\n",
    "    print(list_without_e)\n",
    "\n",
    "string_without_e = ''\n",
    "for i in list_without_e:\n",
    "    string_without_e += i\n",
    "    \n",
    "print(string_without_e)"
   ]
  },
  {
   "cell_type": "code",
   "execution_count": 4,
   "metadata": {},
   "outputs": [
    {
     "name": "stdout",
     "output_type": "stream",
     "text": [
      "I lov 2 go to th caff 7 tims a wk.\n"
     ]
    }
   ],
   "source": [
    "# solution\n",
    "\n",
    "string = 'I love 2 go to the caffe 7 times a week.'\n",
    "string_without_e = string.replace(\"e\", \"\")\n",
    "    \n",
    "print(string_without_e)"
   ]
  },
  {
   "cell_type": "code",
   "execution_count": 6,
   "metadata": {},
   "outputs": [
    {
     "name": "stdout",
     "output_type": "stream",
     "text": [
      "I lov 2 go to th caff 7 tims a wk\n"
     ]
    }
   ],
   "source": [
    "# solution\n",
    "\n",
    "# https://docs.python.org/3/library/re.html\n",
    "# re — Regular expression operations\n",
    "\n",
    "import re\n",
    "\n",
    "string = \"I love 2 go to the caffe 7 times a week\"\n",
    "string_without_e = re.sub(\"e\", \"\", string)\n",
    "\n",
    "print(string_without_e)"
   ]
  },
  {
   "cell_type": "markdown",
   "metadata": {},
   "source": [
    "[<a href=\"#2019-Spring-Midterm\">Back to top</a>]"
   ]
  },
  {
   "cell_type": "markdown",
   "metadata": {},
   "source": [
    "# 2 \n",
    "주어진 스트링에 들어있는 정수들을 더하여 그 합을 구하는 다음 코드를 완성하라. \n",
    "\n",
    "```\n",
    "s = 'I love 2 go to the caffe 7 times a week.'\n",
    "s_list = s.split()\n",
    "\n",
    "s_sum = 0\n",
    "for i in s_list:\n",
    "    ### put your code below\n",
    "    ### put your code here\n",
    "    ### put your code above\n",
    "print(s_sum)\n",
    "```"
   ]
  },
  {
   "cell_type": "markdown",
   "metadata": {},
   "source": [
    "[정답](https://youtu.be/imxPQPIvWuI)"
   ]
  },
  {
   "cell_type": "code",
   "execution_count": 10,
   "metadata": {},
   "outputs": [
    {
     "name": "stdout",
     "output_type": "stream",
     "text": [
      "['I', 'love', '2', 'go', 'to', 'the', 'caffe', '7', 'times', 'a', 'week.']\n",
      "9\n"
     ]
    }
   ],
   "source": [
    "# solution\n",
    "\n",
    "s = 'I love 2 go to the caffe 7 times a week.'\n",
    "s_list = s.split()\n",
    "print(s_list)\n",
    "\n",
    "s_sum = 0\n",
    "for i in s_list:\n",
    "    try:\n",
    "        s_sum += int(i)\n",
    "    except:\n",
    "        pass\n",
    "print(s_sum)"
   ]
  },
  {
   "cell_type": "code",
   "execution_count": 11,
   "metadata": {},
   "outputs": [
    {
     "name": "stdout",
     "output_type": "stream",
     "text": [
      "['I', 'love', '2', 'go', 'to', 'the', 'caffe', '7', 'times', 'a', 'week.']\n",
      "[2, 7]\n",
      "9\n"
     ]
    }
   ],
   "source": [
    "# solution\n",
    "\n",
    "s = 'I love 2 go to the caffe 7 times a week.'\n",
    "s_list = s.split()\n",
    "print(s_list)\n",
    "\n",
    "s_numeric_list = [int(x) for x in s_list if x.isdigit()]\n",
    "print(s_numeric_list)\n",
    "\n",
    "print(sum(s_numeric_list))"
   ]
  },
  {
   "cell_type": "code",
   "execution_count": 14,
   "metadata": {},
   "outputs": [
    {
     "name": "stdout",
     "output_type": "stream",
     "text": [
      "9\n"
     ]
    }
   ],
   "source": [
    "# solution\n",
    "\n",
    "def sum_digits(digit):\n",
    "    return sum([int(x) for x in digit if x.isdigit()])\n",
    "    #return sum(int(x) for x in digit if x.isdigit())\n",
    "\n",
    "print(sum_digits('I love 2 go to the caffe 7 times a week.'))"
   ]
  },
  {
   "cell_type": "markdown",
   "metadata": {},
   "source": [
    "[<a href=\"#2019-Spring-Midterm\">Back to top</a>]"
   ]
  },
  {
   "cell_type": "markdown",
   "metadata": {},
   "source": [
    "# 3 \n",
    "짝수면 True, 홀수면 False를 리턴하는 다음 함수를 완성하시오.\n",
    "\n",
    "```\n",
    "def even(integer):\n",
    "    ### put your code below\n",
    "    if ### put your code here\n",
    "    ### put your code above\n",
    "        return True\n",
    "    else:\n",
    "        return False\n",
    "\n",
    "print(even(2))\n",
    "```"
   ]
  },
  {
   "cell_type": "markdown",
   "metadata": {},
   "source": [
    "[정답](https://youtu.be/ahgMiXWLx74)"
   ]
  },
  {
   "cell_type": "code",
   "execution_count": 11,
   "metadata": {},
   "outputs": [
    {
     "name": "stdout",
     "output_type": "stream",
     "text": [
      "True\n"
     ]
    }
   ],
   "source": [
    "# solution\n",
    "\n",
    "def even(integer):\n",
    "    if integer % 2 == 0:\n",
    "        return True\n",
    "    else:\n",
    "        return False\n",
    "\n",
    "print(even(2))"
   ]
  },
  {
   "cell_type": "code",
   "execution_count": 2,
   "metadata": {},
   "outputs": [
    {
     "name": "stdout",
     "output_type": "stream",
     "text": [
      "False\n"
     ]
    }
   ],
   "source": [
    "# solution\n",
    "\n",
    "def even(integer):\n",
    "    return integer % 2 == 0\n",
    "\n",
    "print(even(3))"
   ]
  },
  {
   "cell_type": "markdown",
   "metadata": {},
   "source": [
    "[<a href=\"#2019-Spring-Midterm\">Back to top</a>]"
   ]
  },
  {
   "cell_type": "markdown",
   "metadata": {},
   "source": [
    "# 4 \n",
    "Make a code to compute the following integral:\n",
    "$$\n",
    "\\displaystyle\\int_0^{10} x^2+2x+1dx\n",
    "$$"
   ]
  },
  {
   "cell_type": "markdown",
   "metadata": {},
   "source": [
    "[정답](https://youtu.be/B_Ccil3b7tU)"
   ]
  },
  {
   "cell_type": "code",
   "execution_count": 12,
   "metadata": {},
   "outputs": [
    {
     "name": "stdout",
     "output_type": "stream",
     "text": [
      "442.73350000000005\n"
     ]
    }
   ],
   "source": [
    "# solution\n",
    "\n",
    "import numpy as np\n",
    "\n",
    "n = 1000\n",
    "x = np.linspace(0, 10, num=n, endpoint=False) \n",
    "y = x**2 + 2*x + 1\n",
    "dx = x[1] - x[0]\n",
    "\n",
    "integral = np.sum(y*dx)\n",
    "print(integral)"
   ]
  },
  {
   "cell_type": "markdown",
   "metadata": {},
   "source": [
    "[<a href=\"#2019-Spring-Midterm\">Back to top</a>]"
   ]
  },
  {
   "cell_type": "markdown",
   "metadata": {},
   "source": [
    "# 5 \n",
    "100번째 소수를 찿는 다음 코드를 완성하라.\n",
    "```\n",
    "def find_nth_prime_number(n):\n",
    "    if n == 1:\n",
    "        return 2\n",
    "    \n",
    "    prime_list = [2]\n",
    "    prime_candidate = 3\n",
    "    \n",
    "    prime_number_counter = 1\n",
    "    while prime_number_counter < n:\n",
    "        \n",
    "        for prime in prime_list:\n",
    "            \n",
    "            # if prime_candidate fail to pass some prime test\n",
    "            if prime_candidate % prime == 0:\n",
    "                ### put your code below\n",
    "                ### put your code here\n",
    "                ### put your code above\n",
    "                \n",
    "            # if prime_candidate passes all prime test \n",
    "            if prime == prime_list[-1]:\n",
    "                ### put your code below\n",
    "                ### put your code here\n",
    "                ### put your code above\n",
    "                     \n",
    "    return prime_list[-1]\n",
    "\n",
    "        \n",
    "print(find_nth_prime_number(100))  \n",
    "```"
   ]
  },
  {
   "cell_type": "markdown",
   "metadata": {},
   "source": [
    "[정답](https://youtu.be/GA2c6hCSsRI)"
   ]
  },
  {
   "cell_type": "code",
   "execution_count": 4,
   "metadata": {},
   "outputs": [
    {
     "name": "stdout",
     "output_type": "stream",
     "text": [
      "104729\n",
      "6.44859504699707\n"
     ]
    }
   ],
   "source": [
    "# solution\n",
    "\n",
    "import time\n",
    "\n",
    "tic = time.time()\n",
    "\n",
    "def find_nth_prime_number(n):\n",
    "    \n",
    "    if n == 1:\n",
    "        return 2\n",
    "    \n",
    "    prime_list = [2]\n",
    "    prime_candidate = 3\n",
    "    \n",
    "    prime_number_counter = 1\n",
    "    while prime_number_counter < n:\n",
    "        \n",
    "        for prime in prime_list:\n",
    "            \n",
    "            # if prime_candidate fail to pass some prime test\n",
    "            if prime_candidate % prime == 0:\n",
    "                prime_candidate += 2  # update prime_candidate \n",
    "                break  # break for loop\n",
    "                \n",
    "            # if prime_candidate passes all prime test \n",
    "            if prime == prime_list[-1]:\n",
    "                prime_number_counter += 1\n",
    "                prime_list.append(prime_candidate) # append prime_candidate to prime_list \n",
    "                prime_candidate += 2 # update prime_candidate\n",
    "                break  # break for loop\n",
    "                     \n",
    "    return prime_list[-1]\n",
    "\n",
    "\n",
    "print(find_nth_prime_number(10000))\n",
    "\n",
    "toc = time.time()\n",
    "print(toc-tic)"
   ]
  },
  {
   "cell_type": "code",
   "execution_count": 5,
   "metadata": {},
   "outputs": [
    {
     "name": "stdout",
     "output_type": "stream",
     "text": [
      "104729\n",
      "0.23640990257263184\n"
     ]
    }
   ],
   "source": [
    "# solution\n",
    "\n",
    "# https://www.sympy.org/en/index.html\n",
    "# SymPy is a Python library for symbolic mathematics.\n",
    "\n",
    "from sympy import isprime\n",
    "import time\n",
    "\n",
    "tic = time.time()\n",
    "\n",
    "prime_candidate = 1\n",
    "primeCount = 0\n",
    "\n",
    "while primeCount < 10000:\n",
    "    prime_candidate += 1\n",
    "    if isprime(prime_candidate):\n",
    "        primeCount += 1\n",
    "\n",
    "print(prime_candidate)\n",
    "\n",
    "toc = time.time()\n",
    "print(toc-tic)"
   ]
  },
  {
   "cell_type": "markdown",
   "metadata": {},
   "source": [
    "[<a href=\"#2019-Spring-Midterm\">Back to top</a>]"
   ]
  }
 ],
 "metadata": {
  "kernelspec": {
   "display_name": "Python [default]",
   "language": "python",
   "name": "python3"
  },
  "language_info": {
   "codemirror_mode": {
    "name": "ipython",
    "version": 3
   },
   "file_extension": ".py",
   "mimetype": "text/x-python",
   "name": "python",
   "nbconvert_exporter": "python",
   "pygments_lexer": "ipython3",
   "version": "3.5.5"
  }
 },
 "nbformat": 4,
 "nbformat_minor": 2
}
