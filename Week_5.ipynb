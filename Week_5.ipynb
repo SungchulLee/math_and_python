{
 "cells": [
  {
   "cell_type": "code",
   "execution_count": 1,
   "metadata": {},
   "outputs": [
    {
     "name": "stdout",
     "output_type": "stream",
     "text": [
      "3.0\n"
     ]
    }
   ],
   "source": [
    "# 박영욱\n",
    "# 평균 구하기\n",
    "\n",
    "def avg(*args):\n",
    "    result = 0\n",
    "    for i in args:\n",
    "        result += i\n",
    "    return result / len(args)\n",
    "    \n",
    "result = avg(1,2,3,4,5)  \n",
    "# *args =  1,2,3,4,5\n",
    "# args = (1,2,3,4,5)\n",
    "\n",
    "print(result)"
   ]
  },
  {
   "cell_type": "code",
   "execution_count": 2,
   "metadata": {},
   "outputs": [
    {
     "name": "stdout",
     "output_type": "stream",
     "text": [
      "120\n"
     ]
    }
   ],
   "source": [
    "# 박영욱\n",
    "# 선택 후 계산 \n",
    "\n",
    "def add_mul(choice, *args):\n",
    "    if choice == \"add\":\n",
    "        result = 0\n",
    "        for i in args:\n",
    "            result += i            \n",
    "    elif choice == \"mul\":\n",
    "        result = 1\n",
    "        for i in args:\n",
    "            result = result * i        \n",
    "    return result\n",
    "\n",
    "if 0:\n",
    "    result = add_mul('add',1,2,3,4,5)\n",
    "elif 1:\n",
    "    result = add_mul('mul',1,2,3,4,5)\n",
    "# *args = 1,2,3,4,5\n",
    "# args = (1,2,3,4,5)\n",
    "print(result)   "
   ]
  },
  {
   "cell_type": "code",
   "execution_count": 8,
   "metadata": {},
   "outputs": [
    {
     "name": "stdout",
     "output_type": "stream",
     "text": [
      "한변의 길이가 3인 정삼각형의 넓이는 약 3.897114 입니다.\n",
      "한변의 길이가 3인 정삼각형의 넓이는 약 3.897114 입니다.\n",
      "None\n"
     ]
    }
   ],
   "source": [
    "# 이미나\n",
    "\n",
    "def tri_size(a):\n",
    "    # print(\"한변의 길이가 %d인 정삼각형의 넓이는 약 %f 입니다.\" % (a, 3**(0.5) * a**2 * 0.25 ))\n",
    "    msg = \"한변의 길이가 {}인 정삼각형의 넓이는 약 {}입니다.\"\n",
    "    print(msg.format(a, 3**(0.5) * a**2 * 0.25 ))\n",
    "\n",
    "tri_size(3)\n",
    "k = tri_size(3)\n",
    "print(k)"
   ]
  },
  {
   "cell_type": "code",
   "execution_count": null,
   "metadata": {},
   "outputs": [],
   "source": [
    "# 박소현\n",
    "\n",
    "def number(name, *args):\n",
    "    print(name)\n",
    "    print(args)\n",
    "    \n",
    "print(number('Natural number', 1,2,3,4,5,6,7))\n",
    "# *args = 1,2,3,4,5,6,7\n",
    "# args = (1,2,3,4,5,6,7)\n",
    "print(number('Odd number',1,3,5,7,9))\n",
    "print(number('Even number',2,4,6,8,10))"
   ]
  },
  {
   "cell_type": "code",
   "execution_count": null,
   "metadata": {},
   "outputs": [],
   "source": [
    "# 박소현\n",
    "\n",
    "def Travel(vacation,*args):\n",
    "    print(vacation)\n",
    "    for i in args:\n",
    "        print(i)\n",
    "        \n",
    "print(Travel('Travel plan','Day 15/8/2019 ','Time 15:00','Flight No MU2017'))\n",
    "# *args = 'Day 15/8/2019 ','Time 15:00','Flight No MU2017' \n",
    "# args = ('Day 15/8/2019 ','Time 15:00','Flight No MU2017' )"
   ]
  },
  {
   "cell_type": "code",
   "execution_count": null,
   "metadata": {},
   "outputs": [],
   "source": [
    "# 박소현\n",
    "\n",
    "def intro(**kwargs):\n",
    "    for key, value in kwargs.items():\n",
    "        print(\"{}: {}\".format(key,value))\n",
    "\n",
    "intro(Day=\"20190501\", Time=\"0800\", Flight=\"MUS\", Persons=\"20\")\n",
    "# **kwargs : Day=\"20190501\", Time=\"0800\", Flight=\"MUS\", Persons=\"20\"\n",
    "# kwargs = {\"Day\" : \"20190501\", \"Time \": \"0800\", \"Flight\" : \"MUS\", \"Persons\" : \"20\"}"
   ]
  },
  {
   "cell_type": "code",
   "execution_count": 14,
   "metadata": {},
   "outputs": [
    {
     "name": "stdout",
     "output_type": "stream",
     "text": [
      "sum: 92\n"
     ]
    }
   ],
   "source": [
    "# 박소현\n",
    "\n",
    "def adder(*args):\n",
    "    temp = 0\n",
    "    for i in args:\n",
    "        temp +=i\n",
    "    print(\"sum:\",temp)\n",
    "\n",
    "adder(1,4,7,10,13,16,19,22)\n",
    "# *args = 1,4,7,10,13,16,19,22\n",
    "# args = (1,4,7,10,13,16,19,22)"
   ]
  },
  {
   "cell_type": "code",
   "execution_count": 16,
   "metadata": {},
   "outputs": [
    {
     "name": "stdout",
     "output_type": "stream",
     "text": [
      "900\n"
     ]
    }
   ],
   "source": [
    "# 2017432051 강영수\n",
    "\n",
    "def multiply(*args):\n",
    "    z = 1\n",
    "    for num in args:\n",
    "        z *= num\n",
    "    print(z)\n",
    "\n",
    "multiply(3, 5, 10, 6)\n",
    "# *args = 3, 5, 10, 6\n",
    "# args = (3, 5, 10, 6)"
   ]
  },
  {
   "cell_type": "code",
   "execution_count": 17,
   "metadata": {},
   "outputs": [
    {
     "name": "stdout",
     "output_type": "stream",
     "text": [
      "kwarg_1: Happy\n",
      "kwarg_2: Beautiful\n",
      "kwarg_3: Cute\n"
     ]
    }
   ],
   "source": [
    "# 2017432051 강영수\n",
    "\n",
    "def some_kwargs(kwarg_1, kwarg_2, kwarg_3):\n",
    "    print(\"kwarg_1:\", kwarg_1) \n",
    "    print(\"kwarg_2:\", kwarg_2)\n",
    "    print(\"kwarg_3:\", kwarg_3)\n",
    "\n",
    "kwargs = {\"kwarg_1\": \"Happy\", \"kwarg_2\": \"Beautiful\", \"kwarg_3\": \"Cute\"}\n",
    "# **kwargs: kwarg_1 = \"Happy\", kwarg_2 = \"Beautiful\", kwarg_3 = \"Cute\"\n",
    "some_kwargs(**kwargs)"
   ]
  },
  {
   "cell_type": "code",
   "execution_count": 20,
   "metadata": {},
   "outputs": [
    {
     "name": "stdout",
     "output_type": "stream",
     "text": [
      "a\n",
      "b\n",
      "c\n",
      "d\n"
     ]
    }
   ],
   "source": [
    "# 어정규\n",
    "\n",
    "def print_param(*args):\n",
    "    for p in args:\n",
    "        print(p)\n",
    "    \n",
    "print_param('a', 'b', 'c', 'd')\n",
    "# *args: 'a', 'b', 'c', 'd'\n",
    "# args = ('a', 'b', 'c', 'd')"
   ]
  },
  {
   "cell_type": "code",
   "execution_count": null,
   "metadata": {},
   "outputs": [],
   "source": [
    "# 어정규\n",
    "\n",
    "def print_param2(**kwargs):\n",
    "    print(kwargs)\n",
    "    print(kwargs.keys())\n",
    "    print(kwargs.values())\n",
    "    \n",
    "    for name, value in kwargs.items():\n",
    "        print(\"{} : {}\".format(name, value))\n",
    "        \n",
    "print_param2(first = 'a', second = 'b', third = 'c', fourth = 'd')\n",
    "# **kwargs: first = 'a', second = 'b', third = 'c', fourth = 'd'\n",
    "# kwargs = {'first' : 'a', 'second' : 'b', 'third' : 'c', 'fourth' : 'd'}"
   ]
  },
  {
   "cell_type": "code",
   "execution_count": 25,
   "metadata": {},
   "outputs": [
    {
     "data": {
      "image/png": "[encoded data removed]",
      "text/plain": [
       "<Figure size 432x288 with 1 Axes>"
      ]
     },
     "metadata": {
      "needs_background": "light"
     },
     "output_type": "display_data"
    }
   ],
   "source": [
    "# 최성훈\n",
    "\n",
    "import matplotlib.pyplot as plt\n",
    "import numpy as np\n",
    "\n",
    "def normal_pdf(x, mu=0, sigma=1):\n",
    "    f = np.exp(-(x-mu)**2/(2*sigma**2)) / np.sqrt(2*np.pi*sigma**2)\n",
    "    return f\n",
    "\n",
    "x = np.linspace(-3., 3.)\n",
    "y = normal_pdf(x) \n",
    "plt.plot(x,y)\n",
    "plt.title(\"Normal distribution\")\n",
    "plt.show()"
   ]
  },
  {
   "cell_type": "code",
   "execution_count": null,
   "metadata": {},
   "outputs": [],
   "source": []
  }
 ],
 "metadata": {
  "kernelspec": {
   "display_name": "Python [conda env:anaconda3]",
   "language": "python",
   "name": "conda-env-anaconda3-py"
  },
  "language_info": {
   "codemirror_mode": {
    "name": "ipython",
    "version": 3
   },
   "file_extension": ".py",
   "mimetype": "text/x-python",
   "name": "python",
   "nbconvert_exporter": "python",
   "pygments_lexer": "ipython3",
   "version": "3.5.0"
  }
 },
 "nbformat": 4,
 "nbformat_minor": 2
}
