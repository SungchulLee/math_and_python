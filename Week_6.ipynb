{
 "cells": [
  {
   "cell_type": "code",
   "execution_count": 3,
   "metadata": {},
   "outputs": [
    {
     "name": "stdout",
     "output_type": "stream",
     "text": [
      "자연수 입력: 12\n",
      "12 은 소수가 아니다.\n",
      "2 x 6 = 12\n"
     ]
    }
   ],
   "source": [
    "# 2018432038 최성훈\n",
    "\n",
    "num = int(input(\"자연수 입력: \"))\n",
    "\n",
    "if num > 1:\n",
    "    for i in range(2,num):\n",
    "        if (num % i) == 0:\n",
    "            print(num,\"은 소수가 아니다.\")\n",
    "            print(i,\"x\",num//i,\"=\",num)\n",
    "            break\n",
    "    else:\n",
    "        print(num,\"은 소수다.\")\n",
    "else:\n",
    "    print(num,\"은 소수가 아니다.\")"
   ]
  },
  {
   "cell_type": "code",
   "execution_count": 5,
   "metadata": {},
   "outputs": [
    {
     "name": "stdout",
     "output_type": "stream",
     "text": [
      "자연수 입력: 21\n",
      "21 이하의 소수는\n",
      "2 은 소수\n",
      "3 은 소수\n",
      "4 는 2 x 2 = 4 이므로 소수가 아니다.\n",
      "5 은 소수\n",
      "6 는 2 x 3 = 6 이므로 소수가 아니다.\n",
      "7 은 소수\n",
      "8 는 2 x 4 = 8 이므로 소수가 아니다.\n",
      "9 는 3 x 3 = 9 이므로 소수가 아니다.\n",
      "10 는 2 x 5 = 10 이므로 소수가 아니다.\n",
      "11 은 소수\n",
      "12 는 2 x 6 = 12 이므로 소수가 아니다.\n",
      "13 은 소수\n",
      "14 는 2 x 7 = 14 이므로 소수가 아니다.\n",
      "15 는 3 x 5 = 15 이므로 소수가 아니다.\n",
      "16 는 2 x 8 = 16 이므로 소수가 아니다.\n",
      "17 은 소수\n",
      "18 는 2 x 9 = 18 이므로 소수가 아니다.\n",
      "19 은 소수\n",
      "20 는 2 x 10 = 20 이므로 소수가 아니다.\n",
      "21 는 3 x 7 = 21 이므로 소수가 아니다.\n"
     ]
    }
   ],
   "source": [
    "# 2018432038 최성훈\n",
    "\n",
    "num = int(input(\"자연수 입력: \"))\n",
    "print(\"{} 이하의 소수는\".format(num))     \n",
    "for n in range(2,num+1):\n",
    "    for i in range(2,n):\n",
    "        if (n % i) == 0:\n",
    "            print(n,\"는 {} x {} = {} 이므로 소수가 아니다.\".format(i,n//i,n))\n",
    "            break                    \n",
    "    else:\n",
    "        print(n,\"은 소수\")   "
   ]
  },
  {
   "cell_type": "code",
   "execution_count": 6,
   "metadata": {},
   "outputs": [
    {
     "name": "stdout",
     "output_type": "stream",
     "text": [
      "자연수 입력: 21\n",
      "21 이하의 소수는\n",
      "2  3  5  7  11  13  17  19  "
     ]
    }
   ],
   "source": [
    "# 2018432038 최성훈\n",
    "\n",
    "num = int(input(\"자연수 입력: \"))\n",
    "print(\"{} 이하의 소수는\".format(num))     \n",
    "for n in range(2,num+1):\n",
    "    for i in range(2,n):\n",
    "        if (n % i) == 0:\n",
    "            break\n",
    "    else:\n",
    "        print(n, end=\"  \")"
   ]
  },
  {
   "cell_type": "code",
   "execution_count": 17,
   "metadata": {},
   "outputs": [
    {
     "name": "stdout",
     "output_type": "stream",
     "text": [
      "<map object at 0x11305d908>\n",
      "[0, 2, 4, 6, 8, 10, 12, 14, 16, 18]\n",
      "0\n",
      "2\n",
      "4\n",
      "6\n",
      "8\n",
      "10\n",
      "12\n",
      "14\n",
      "16\n",
      "18\n",
      "<filter object at 0x11305dc18>\n",
      "[0, 2, 4, 6, 8]\n",
      "0\n",
      "2\n",
      "4\n",
      "6\n",
      "8\n"
     ]
    }
   ],
   "source": [
    "# 박영욱\n",
    "\n",
    "xs = list(range(10)) # [0,1,2,...,9]\n",
    "doubled = map(lambda x : x*2 , xs)\n",
    "print(doubled)\n",
    "print(list(doubled))\n",
    "\n",
    "xs = list(range(10)) # [0,1,2,...,9]\n",
    "doubled = map(lambda x : x*2 , xs)\n",
    "for x in doubled:\n",
    "     print(x)\n",
    "        \n",
    "xs = list(range(10)) # [0,1,2,...,9]        \n",
    "evens = filter(lambda x: x % 2 is 0, xs)\n",
    "print(evens)\n",
    "print(list(evens))\n",
    "\n",
    "xs = list(range(10)) # [0,1,2,...,9]        \n",
    "evens = filter(lambda x: x % 2 is 0, xs)\n",
    "for x in evens:\n",
    "    print(x)"
   ]
  },
  {
   "cell_type": "code",
   "execution_count": 18,
   "metadata": {},
   "outputs": [
    {
     "name": "stdout",
     "output_type": "stream",
     "text": [
      "9\n",
      "14\n",
      "3\n",
      "12\n"
     ]
    }
   ],
   "source": [
    "# 박소현\n",
    "\n",
    "# lamda\n",
    "triple = lambda x: 3*x \n",
    "print(triple(3))\n",
    "\n",
    "my_multi = lambda x, y : x*y\n",
    "print(my_multi(2,7))\n",
    "\n",
    "my_min = lambda x,y: x if x < y else y\n",
    "print(my_min(3,9))\n",
    "\n",
    "pro = lambda x,y: 4*x if x < y else x*y\n",
    "print(pro(3,9))"
   ]
  },
  {
   "cell_type": "code",
   "execution_count": 19,
   "metadata": {},
   "outputs": [
    {
     "name": "stdout",
     "output_type": "stream",
     "text": [
      "[3, 6, 9, 12, 15]\n"
     ]
    }
   ],
   "source": [
    "# 박소현\n",
    "\n",
    "# map\n",
    "# geometric progression of the 3\n",
    "n = [1,2,3,4,5]\n",
    "\n",
    "print(list(map(lambda x: x*3, n)))"
   ]
  },
  {
   "cell_type": "code",
   "execution_count": 20,
   "metadata": {},
   "outputs": [
    {
     "name": "stdout",
     "output_type": "stream",
     "text": [
      "3\n"
     ]
    }
   ],
   "source": [
    "# 이미나\n",
    "\n",
    "def fibo(x):\n",
    "    a, b = 0, 1\n",
    "    for I in range(x):\n",
    "        a, b = b, a+b\n",
    "    return a\n",
    "print(fibo(4))"
   ]
  },
  {
   "cell_type": "code",
   "execution_count": 21,
   "metadata": {},
   "outputs": [
    {
     "name": "stdout",
     "output_type": "stream",
     "text": [
      "홀수\n"
     ]
    }
   ],
   "source": [
    "# 이미나\n",
    "\n",
    "def func1(n):\n",
    "    if n % 2 == 0:\n",
    "        return '짝수'\n",
    "    else:\n",
    "        return '홀수'\n",
    "print(func1(3)) "
   ]
  },
  {
   "cell_type": "code",
   "execution_count": 22,
   "metadata": {},
   "outputs": [
    {
     "name": "stdout",
     "output_type": "stream",
     "text": [
      "홀수\n"
     ]
    }
   ],
   "source": [
    "# 이미나\n",
    "\n",
    "func1 = lambda x : '짝수' if x % 2 ==0 else '홀수'\n",
    "print(func1(3))"
   ]
  },
  {
   "cell_type": "code",
   "execution_count": 23,
   "metadata": {},
   "outputs": [
    {
     "name": "stdout",
     "output_type": "stream",
     "text": [
      "숫자를 입력해주세요 : 33\n",
      "[0, 2, 4, 6, 8, 10, 12, 14, 16, 18, 20, 22, 24, 26, 28, 30, 32]\n"
     ]
    }
   ],
   "source": [
    "# 2017432051 강영수\n",
    "# 0 - n 짝수찾기\n",
    "\n",
    "i = int(input('숫자를 입력해주세요 : '))\n",
    "EvenNumExtractor = list(filter(lambda x : x%2 == 0 , range(i+1)))\n",
    "print(EvenNumExtractor)"
   ]
  },
  {
   "cell_type": "code",
   "execution_count": 24,
   "metadata": {},
   "outputs": [
    {
     "name": "stdout",
     "output_type": "stream",
     "text": [
      "7의 배수 몇개 만들까요? : 10\n",
      "[7, 14, 21, 28, 35, 42, 49, 56, 63, 70]\n"
     ]
    }
   ],
   "source": [
    "# 2017432051 강영수\n",
    "\n",
    "# 7의 배수 n 개 만들기\n",
    "\n",
    "i = int(input('7의 배수 몇개 만들까요? : '))\n",
    "multiply7 = list(map(lambda x : x * 7  , range(1,i+1)))\n",
    "print(multiply7)"
   ]
  },
  {
   "cell_type": "code",
   "execution_count": 25,
   "metadata": {},
   "outputs": [
    {
     "name": "stdout",
     "output_type": "stream",
     "text": [
      "[65, 39, 221]\n"
     ]
    }
   ],
   "source": [
    "# 김경종\n",
    "\n",
    "# 13의 배수만 남기기\n",
    "my_list = [12, 65, 54, 39, 102, 339, 221, 50, 70] \n",
    "  \n",
    "# use anonymous function to filter and comparing  \n",
    "# if divisible or not \n",
    "result = list(filter(lambda x: (x % 13 == 0), my_list))  \n",
    "  \n",
    "# printing the result \n",
    "print(result)  "
   ]
  },
  {
   "cell_type": "code",
   "execution_count": 27,
   "metadata": {},
   "outputs": [
    {
     "name": "stdout",
     "output_type": "stream",
     "text": [
      "[20, 24, 32]\n"
     ]
    }
   ],
   "source": [
    "# 김경종\n",
    "# 리스트에서 성인의 나이만 구하기\n",
    "\n",
    "ages = [5, 12, 17, 18, 20, 24, 32]\n",
    "\n",
    "def myFunc(x):\n",
    "    if x < 20:\n",
    "        return False\n",
    "    else:\n",
    "        return True\n",
    "\n",
    "adults = list(filter(myFunc, ages))\n",
    "print(adults)"
   ]
  }
 ],
 "metadata": {
  "kernelspec": {
   "display_name": "Python [conda env:anaconda3]",
   "language": "python",
   "name": "conda-env-anaconda3-py"
  },
  "language_info": {
   "codemirror_mode": {
    "name": "ipython",
    "version": 3
   },
   "file_extension": ".py",
   "mimetype": "text/x-python",
   "name": "python",
   "nbconvert_exporter": "python",
   "pygments_lexer": "ipython3",
   "version": "3.5.0"
  }
 },
 "nbformat": 4,
 "nbformat_minor": 2
}
