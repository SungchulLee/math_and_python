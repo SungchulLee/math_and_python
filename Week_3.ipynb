{
 "cells": [
  {
   "cell_type": "code",
   "execution_count": null,
   "metadata": {},
   "outputs": [],
   "source": []
  },
  {
   "cell_type": "code",
   "execution_count": 1,
   "metadata": {},
   "outputs": [
    {
     "name": "stdout",
     "output_type": "stream",
     "text": [
      "[[14 14]\n",
      " [32 32]]\n",
      "[[ 56  56]\n",
      " [128 128]]\n"
     ]
    }
   ],
   "source": [
    "# 박영욱\n",
    "# 행렬 곱 연산\n",
    "\n",
    "import numpy as np\n",
    "\n",
    "x = np.array( [ [1,2,3],[4,5,6] ] ) # 2x3 행렬 입력\n",
    "y = np.array( [ [1,1],[2,2],[3,3] ] ) # 3x2 행렬 입력\n",
    "z = 4*x # x 행렬의 4배\n",
    "\n",
    "print(x.dot(y))\n",
    "print(z.dot(y))"
   ]
  },
  {
   "cell_type": "code",
   "execution_count": 2,
   "metadata": {},
   "outputs": [
    {
     "name": "stdout",
     "output_type": "stream",
     "text": [
      "[[14 14]\n",
      " [32 32]]\n",
      "[[14 14]\n",
      " [32 32]]\n",
      "[[14 14]\n",
      " [32 32]]\n",
      "[[14 14]\n",
      " [32 32]]\n"
     ]
    }
   ],
   "source": [
    "import numpy as np\n",
    "\n",
    "x = np.array( [ [1,2,3],[4,5,6] ] ) # 2x3 행렬 입력\n",
    "y = np.array( [ [1,1],[2,2],[3,3] ] ) # 3x2 행렬 입력\n",
    "\n",
    "# print(type(x)) # numpy.ndarray\n",
    "# print(x.shape) # (2, 3)\n",
    "# print(x.dtype) # int64\n",
    "\n",
    "# print(type(y)) # numpy.ndarray\n",
    "# print(y.shape) # (3, 2)\n",
    "# print(y.dtype) # int64\n",
    "\n",
    "# Difference between numpy dot() and Python 3.5+ matrix multiplication @\n",
    "# https://stackoverflow.com/questions/34142485/difference-between-numpy-dot-and-python-3-5-matrix-multiplication\n",
    "# https://docs.scipy.org/doc/numpy/reference/generated/numpy.matmul.html\n",
    "print(x@y)\n",
    "print(np.matmul(x,y))\n",
    "print(np.dot(x,y))\n",
    "print(x.dot(y))"
   ]
  },
  {
   "cell_type": "code",
   "execution_count": null,
   "metadata": {},
   "outputs": [],
   "source": [
    "# 강영수 \n",
    "\n",
    "import numpy as np\n",
    " \n",
    "a = np.array([1,2,3])\n",
    "b = np.array([4,5,6])\n",
    " \n",
    "# 각 요소 더하기\n",
    "c = a + b\n",
    "# c = np.add(a, b)\n",
    "print(c)  # [5 7 9]\n",
    " \n",
    "# 각 요소 빼기\n",
    "c = a - b\n",
    "# c = np.subtract(a, b)\n",
    "print(c)  # [-3 -3 -3]\n",
    " \n",
    "# 각 요소 곱하기\n",
    "c = a * b\n",
    "# c = np.multiply(a, b)\n",
    "print(c)  # [4 10 18]\n",
    " \n",
    "# 각 요소 나누기\n",
    "c = a / b\n",
    "# c = np.divide(a, b)\n",
    "print(c)  # [0.25 0.4 0.5]"
   ]
  },
  {
   "cell_type": "code",
   "execution_count": null,
   "metadata": {},
   "outputs": [],
   "source": [
    "# 강영수 \n",
    "\n",
    "import numpy as np\n",
    " \n",
    "a = np.array([[1,2,3],[3,4,5]])\n",
    " \n",
    "s = np.sum(a)\n",
    "print(s)   \n",
    " \n",
    "# axis=0 이면, 컬럼끼리 더함\n",
    "# axis=1 이면, 행끼리 더함\n",
    "s = np.sum(a, axis=0)\n",
    "print(s)   \n",
    " \n",
    "s = np.sum(a, axis=1)\n",
    "print(s)  \n",
    " \n",
    "s = np.prod(a)\n",
    "print(s)"
   ]
  },
  {
   "cell_type": "code",
   "execution_count": 3,
   "metadata": {},
   "outputs": [
    {
     "name": "stdout",
     "output_type": "stream",
     "text": [
      "[[1 2 3]\n",
      " [3 4 5]]\n",
      "\n",
      "[[1 2 3]\n",
      " [4 6 8]]\n",
      "\n",
      "[[ 1  3  6]\n",
      " [ 3  7 12]]\n"
     ]
    }
   ],
   "source": [
    "import numpy as np\n",
    " \n",
    "a = np.array([[1,2,3],[3,4,5]])\n",
    "print(a)   \n",
    "print()\n",
    "\n",
    "s = np.cumsum(a, axis=0)\n",
    "print(s)\n",
    "print()\n",
    " \n",
    "s = np.cumsum(a, axis=1)\n",
    "print(s)  "
   ]
  },
  {
   "cell_type": "code",
   "execution_count": 13,
   "metadata": {},
   "outputs": [
    {
     "name": "stdout",
     "output_type": "stream",
     "text": [
      "[[0.66025807 0.35435115 0.02885461 0.9754206 ]\n",
      " [0.42605562 0.63927122 0.69693401 0.05077152]]\n",
      "[[0. 0. 0. 0.]\n",
      " [0. 0. 0. 0.]]\n",
      "[[1. 1. 1. 1.]\n",
      " [1. 1. 1. 1.]]\n",
      "[[1. 1. 1. 1.]\n",
      " [1. 1. 1. 1.]]\n",
      "[[5 5 5]\n",
      " [5 5 5]]\n",
      "[[1. 0. 0.]\n",
      " [0. 1. 0.]\n",
      " [0. 0. 1.]]\n",
      "[[ 0  1  2  3  4]\n",
      " [ 5  6  7  8  9]\n",
      " [10 11 12 13 14]\n",
      " [15 16 17 18 19]]\n",
      "[[0 0]\n",
      " [0 0]]\n",
      "[[1 1 1]\n",
      " [1 1 1]]\n"
     ]
    }
   ],
   "source": [
    "# 어정규\n",
    "\n",
    "import numpy as np\n",
    "\n",
    "a = np.zeros((2,2))\n",
    "print(a)\n",
    "\n",
    "b = np.ones((2,3))\n",
    "print(b)\n",
    "\n",
    "b = np.empty((2,3))\n",
    "print(b)\n",
    "\n",
    "a = np.random.uniform(0., 1., (2, 4))\n",
    "print(a)\n",
    "\n",
    "b = np.zeros_like(a)\n",
    "print(b)\n",
    "\n",
    "b = np.ones_like(a)\n",
    "print(b)\n",
    "\n",
    "b = np.empty_like(a)\n",
    "print(b)\n",
    "\n",
    "c = np.full((2,3), 5)\n",
    "print(c)\n",
    "\n",
    "d = np.eye(3)\n",
    "print(d)\n",
    "\n",
    "e = np.array(range(20)).reshape((4,5))\n",
    "print(e)\n",
    "\n",
    "a = np.zeros((2,2)).astype(np.int64)\n",
    "print(a)\n",
    "\n",
    "b = np.ones((2,3)).astype(np.int64)\n",
    "print(b)"
   ]
  },
  {
   "cell_type": "code",
   "execution_count": 11,
   "metadata": {},
   "outputs": [
    {
     "name": "stdout",
     "output_type": "stream",
     "text": [
      "3\n",
      "float64\n",
      "[[0 0 0]\n",
      " [0 0 0]]\n"
     ]
    }
   ],
   "source": [
    "import numpy as np\n",
    "\n",
    "a = int(3.14)\n",
    "print(a)\n",
    "\n",
    "a = np.zeros((2,3))\n",
    "print(a.dtype)\n",
    "\n",
    "a = np.zeros((2,3)).astype(np.int64)\n",
    "print(a)"
   ]
  },
  {
   "cell_type": "code",
   "execution_count": 17,
   "metadata": {},
   "outputs": [
    {
     "name": "stdout",
     "output_type": "stream",
     "text": [
      "[[ 1. 10.]\n",
      " [ 0.  1.]]\n",
      "[[ 1 10]\n",
      " [ 0  1]]\n"
     ]
    }
   ],
   "source": [
    "# 윤혜영\n",
    "\n",
    "import numpy as np\n",
    "\n",
    "a = np.array([[1, 1], [0, 1]])\n",
    "\n",
    "temp = np.eye(2)\n",
    "for i in range(10):\n",
    "    temp = temp @ a\n",
    "    \n",
    "print(temp)\n",
    "print(np.linalg.matrix_power(a, 10))\n",
    "\n",
    "# 연속된 행렬의 계산을 while구문으로 계산하고자 하였습니다.\n",
    "# 이를테면 b행렬의 100승의 값을 출력하고자 하였습니다."
   ]
  },
  {
   "cell_type": "code",
   "execution_count": 19,
   "metadata": {},
   "outputs": [
    {
     "name": "stdout",
     "output_type": "stream",
     "text": [
      "1~10사이의 임의의 숫자로 이루어진 n 차 정방행렬의 곱을 확인해봅시다... n의 값을 입력해주세요.10\n",
      "\n",
      "행렬 A : \n",
      "[[ 7  4  2  1  6  9  2  7 10  6]\n",
      " [ 3  5  6  3  2 10  3  2  2  1]\n",
      " [10  7  3  7  2  6  1  9  3 10]\n",
      " [ 7  4  3  7  1  8  1  9  2  7]\n",
      " [ 5  9 10  2  3  4  1 10  5  8]\n",
      " [ 1  4 10  9  3  9  9  1  1  6]\n",
      " [ 8  4  9  3 10  2  5  1  1  6]\n",
      " [ 2  8  7  6  1  1  6  8  1  3]\n",
      " [ 9  9  4  7  2  5  6  8  2  4]\n",
      " [10  5  5  1  6  9  2  6  1  4]]  \n",
      "행렬 B : \n",
      "[[ 8  7  2 10  6  9  4  7 10  9]\n",
      " [ 2  2  2  7  2 10  9  8  3  2]\n",
      " [ 1 10  9  4  5  7  8 10  7  1]\n",
      " [10  6  5  1  3  8  7  8  9  2]\n",
      " [10  2  3  8  4  9  9  4  8  8]\n",
      " [ 6  4  9  7 10  9  2  5  4  4]\n",
      " [ 3  8  5  8  9  6  7  2  9  3]\n",
      " [ 8  6  3  8  7 10 10  2 10  1]\n",
      " [ 4  8 10  2  3  4  6  7  7 10]\n",
      " [10  1  1  1  9  5  7 10  9  2]]  \n",
      "행렬 A와 B의 곱은 : \n",
      "[[352 275 281 316 328 412 345 326 401 284]\n",
      " [193 206 223 223 231 302 224 237 240 138]\n",
      " [410 280 228 322 349 467 391 391 455 223]\n",
      " [348 248 218 272 311 400 320 315 382 174]\n",
      " [325 303 266 313 322 450 423 392 421 196]\n",
      " [299 303 299 262 338 397 349 355 385 155]\n",
      " [310 260 212 297 279 381 348 331 386 221]\n",
      " [231 249 192 242 235 348 338 270 327 107]\n",
      " [344 303 236 347 323 462 388 346 428 207]\n",
      " [317 248 221 337 311 414 312 300 364 221]] "
     ]
    }
   ],
   "source": [
    "#2018431237 최승준\n",
    "\n",
    "import numpy as np\n",
    "\n",
    "def product():\n",
    "    \n",
    "    n = int(input('1~10사이의 임의의 숫자로 이루어진 n 차 정방행렬의 곱을 확인해봅시다... n의 값을 입력해주세요.'))\n",
    "    print()\n",
    "    \n",
    "    A = np.random.choice([x for x in range(1, 11)], n*n).reshape(n, n)\n",
    "    \n",
    "    B = np.random.choice([x for x in range(1, 11)], n*n).reshape(n, n)\n",
    "    \n",
    "    print('행렬 A : ') \n",
    "    print(A, end=' ')\n",
    "    print(\" \")\n",
    "    print('행렬 B : ')\n",
    "    print(B, end=' ')\n",
    "    print(\" \")\n",
    "    print(\"행렬 A와 B의 곱은 : \")\n",
    "    print(A@B, end=' ')\n",
    "    \n",
    "product()"
   ]
  },
  {
   "cell_type": "code",
   "execution_count": 39,
   "metadata": {},
   "outputs": [
    {
     "data": {
      "image/png": "[encoded data removed]",
      "text/plain": [
       "<Figure size 432x288 with 1 Axes>"
      ]
     },
     "metadata": {
      "needs_background": "light"
     },
     "output_type": "display_data"
    }
   ],
   "source": [
    "import numpy as np\n",
    "import matplotlib.pyplot as plt\n",
    "\n",
    "x = np.random.choice([-3, 0, 1, 2], \\\n",
    "                     p=[0.1, 0.2, 0.5, 0.2], \\\n",
    "                     size=(1000,))\n",
    "# print(type(x))\n",
    "# print(x.shape)\n",
    "# print(x.dtype)\n",
    "\n",
    "plt.hist(x, bins=np.arange(-4,4))\n",
    "plt.show()"
   ]
  },
  {
   "cell_type": "code",
   "execution_count": 1,
   "metadata": {},
   "outputs": [
    {
     "name": "stdout",
     "output_type": "stream",
     "text": [
      "자연수 n을 입력하시오 ->10\n",
      "+ ( 1 )  + ( -1/2 )  + ( 1/3 )  + ( -1/4 )  + ( 1/5 )  + ( -1/6 )  + ( 1/7 )  + ( -1/8 )  + ( 1/9 )  + ( -1/10 )  = 0.6456349206349207\n"
     ]
    }
   ],
   "source": [
    "# 최성훈\n",
    "\n",
    "# https://www.geeksforgeeks.org/fraction-module-python/\n",
    "# Fraction module in Python\n",
    "# This module provides support for rational number arithmetic. \n",
    "# It allows to create a Fraction instance from integers, floats, numbers, decimals and strings.\n",
    "from fractions import Fraction\n",
    "\n",
    "n = int(input(\"자연수 n을 입력하시오 ->\"))\n",
    "a = []\n",
    "for j in range(1,n+1):\n",
    "    b = Fraction(1,j)\n",
    "    k = -1/j*(-1)**j\n",
    "    a.append(k)\n",
    "    #print(type(k))\n",
    "    print(\"+\",\"(\",(-1)**(j+1)*b,\")\", end='  ')\n",
    "print(\"=\",sum(a))"
   ]
  },
  {
   "cell_type": "code",
   "execution_count": 4,
   "metadata": {},
   "outputs": [
    {
     "name": "stdout",
     "output_type": "stream",
     "text": [
      "5/6\n",
      "0.8333333333333333\n"
     ]
    }
   ],
   "source": [
    "from fractions import Fraction\n",
    "\n",
    "print(Fraction(1,2) + Fraction(1,3))\n",
    "print((1/2) + (1/3))"
   ]
  },
  {
   "cell_type": "code",
   "execution_count": 25,
   "metadata": {},
   "outputs": [
    {
     "data": {
      "image/png": "[encoded data removed]",
      "text/plain": [
       "<Figure size 432x288 with 1 Axes>"
      ]
     },
     "metadata": {
      "needs_background": "light"
     },
     "output_type": "display_data"
    }
   ],
   "source": [
    "import numpy as np\n",
    "import matplotlib.pyplot as plt\n",
    "\n",
    "n = 100\n",
    "\n",
    "x = (-1)**np.arange(0,n) / np.arange(1,n+1)\n",
    "harmonic_sum = np.cumsum(x)\n",
    "\n",
    "plt.plot(np.arange(1,n+1), harmonic_sum, '-*k')\n",
    "plt.show()"
   ]
  },
  {
   "cell_type": "code",
   "execution_count": 34,
   "metadata": {},
   "outputs": [
    {
     "data": {
      "image/png": "[encoded data removed]",
      "text/plain": [
       "<Figure size 432x288 with 1 Axes>"
      ]
     },
     "metadata": {
      "needs_background": "light"
     },
     "output_type": "display_data"
    }
   ],
   "source": [
    "import numpy as np\n",
    "import matplotlib.pyplot as plt\n",
    "\n",
    "x = np.linspace(-2*np.pi, 2*np.pi, 100)\n",
    "y = np.sin(x)\n",
    "y2 = np.cos(x)\n",
    "\n",
    "plt.plot(x, y, '--k', alpha=0.5)\n",
    "plt.plot(x, y2, 'r')\n",
    "plt.show()"
   ]
  },
  {
   "cell_type": "code",
   "execution_count": 2,
   "metadata": {},
   "outputs": [
    {
     "name": "stdout",
     "output_type": "stream",
     "text": [
      "자연수 n을 입력하시오 ->10\n",
      "+ 1  + 1/2  + 1/3  + 1/4  + 1/5  + 1/6  + 1/7  + 1/8  + 1/9  + 1/10  = 2.9289682539682538\n"
     ]
    }
   ],
   "source": [
    "# 최성훈\n",
    "\n",
    "from fractions import Fraction\n",
    "n = int(input(\"자연수 n을 입력하시오 ->\"))\n",
    "k = []\n",
    "for i in range(1,n+1):\n",
    "    a = Fraction(1,i)\n",
    "    b=1/i\n",
    "    print( \"+\",a, end='  ')\n",
    "    k.append(b)\n",
    "\n",
    "print(\"=\",sum(k))"
   ]
  },
  {
   "cell_type": "code",
   "execution_count": 48,
   "metadata": {},
   "outputs": [
    {
     "name": "stderr",
     "output_type": "stream",
     "text": [
      "/anaconda3/lib/python3.5/site-packages/ipykernel/__main__.py:12: RuntimeWarning: divide by zero encountered in true_divide\n"
     ]
    },
    {
     "data": {
      "image/png": "[encoded data removed]",
      "text/plain": [
       "<Figure size 432x288 with 1 Axes>"
      ]
     },
     "metadata": {
      "needs_background": "light"
     },
     "output_type": "display_data"
    }
   ],
   "source": [
    "import numpy as np\n",
    "import matplotlib.pyplot as plt\n",
    "\n",
    "n = 100000\n",
    "\n",
    "x = 1 / np.arange(1,n+1)\n",
    "harmonic_sum = np.cumsum(x)\n",
    "asymtotics = np.log(np.arange(1,n+1))\n",
    "\n",
    "# plt.plot(np.arange(1,n+1), harmonic_sum, '-k')\n",
    "# plt.plot(np.arange(1,n+1), asymtotics, '-r')\n",
    "plt.plot(np.arange(1,n+1), harmonic_sum / asymtotics, '-b')\n",
    "plt.plot([1,n], [1,1], '--r')\n",
    "plt.show()"
   ]
  },
  {
   "cell_type": "code",
   "execution_count": 49,
   "metadata": {},
   "outputs": [
    {
     "name": "stdout",
     "output_type": "stream",
     "text": [
      "자연수의 역수의 합\n",
      "자연수 n의 값을 입력 ->10\n",
      "+ 1   = 1.0\n",
      "+ 1/2   = 0.5\n",
      "+ 1/3   = 0.3333333333333333\n",
      "+ 1/4   = 0.25\n",
      "+ 1/5   = 0.2\n",
      "+ 1/6   = 0.16666666666666666\n",
      "+ 1/7   = 0.14285714285714285\n",
      "+ 1/8   = 0.125\n",
      "+ 1/9   = 0.1111111111111111\n",
      "+ 1/10   = 0.1\n",
      "--------------------------\n",
      "= 2.9289682539682538\n"
     ]
    }
   ],
   "source": [
    "# 최성훈\n",
    "\n",
    "from fractions import Fraction\n",
    "print(\"자연수의 역수의 합\")\n",
    "n = int(input(\"자연수 n의 값을 입력 ->\"))\n",
    "a=[]\n",
    "for i in range(1,n+1):\n",
    "    k = Fraction(1,i)\n",
    "    h = 1/i\n",
    "    print(\"+\",k, end='   ')\n",
    "    print(\"=\",h)\n",
    "    a.append(h)\n",
    "#print(a)\n",
    "#print(type(a))\n",
    "print(\"--------------------------\")\n",
    "print(\"=\",sum(a))"
   ]
  },
  {
   "cell_type": "code",
   "execution_count": 51,
   "metadata": {},
   "outputs": [
    {
     "data": {
      "image/png": "[encoded data removed]",
      "text/plain": [
       "<Figure size 432x288 with 1 Axes>"
      ]
     },
     "metadata": {
      "needs_background": "light"
     },
     "output_type": "display_data"
    },
    {
     "name": "stdout",
     "output_type": "stream",
     "text": [
      "[2.         2.25       2.37037037 2.44140625 2.48832    2.52162637\n",
      " 2.5464997  2.56578451 2.58117479 2.59374246 2.60419901 2.61303529\n",
      " 2.62060089 2.62715156 2.63287872 2.6379285  2.64241438 2.64642582\n",
      " 2.65003433 2.65329771 2.65626321 2.65896986 2.66145012 2.66373126\n",
      " 2.66583633 2.66778497 2.66959398 2.67127785 2.67284914 2.67431878\n",
      " 2.67569631 2.67699013 2.67820765 2.67935543 2.68043929 2.68146442\n",
      " 2.68243548 2.68335663 2.68423162 2.68506384 2.68585635 2.68661192\n",
      " 2.68733309 2.68802214 2.68868117 2.68931211 2.68991672 2.6904966\n",
      " 2.69105325 2.69158803 2.69210221 2.69259695 2.69307335 2.69353239\n",
      " 2.69397501 2.69440208 2.6948144  2.69521273 2.69559775 2.69597014\n",
      " 2.6963305  2.6966794  2.69701738 2.69734495 2.69766258 2.69797072\n",
      " 2.69826979 2.69856017 2.69884225 2.69911637 2.69938287 2.69964206\n",
      " 2.69989424 2.70013968 2.70037866 2.70061142 2.70083821 2.70105925\n",
      " 2.70127476 2.70148494 2.70168999 2.7018901  2.70208543 2.70227617\n",
      " 2.70246246 2.70264447 2.70282234 2.7029962  2.7031662  2.70333246\n",
      " 2.7034951  2.70365424 2.70381    2.70396247 2.70411176 2.70425797\n",
      " 2.70440119 2.70454152 2.70467904]\n"
     ]
    }
   ],
   "source": [
    "# 최성훈\n",
    "\n",
    "import matplotlib.pyplot as plt\n",
    "import numpy as np\n",
    "\n",
    "a = [i for i in range(1,100)]\n",
    "b = np.array(a)\n",
    "c = (1 + 1/b)**b\n",
    "\n",
    "plt.plot(a, c)\n",
    "plt.show()\n",
    "print(c)"
   ]
  },
  {
   "cell_type": "code",
   "execution_count": null,
   "metadata": {},
   "outputs": [],
   "source": []
  },
  {
   "cell_type": "code",
   "execution_count": null,
   "metadata": {},
   "outputs": [],
   "source": []
  },
  {
   "cell_type": "code",
   "execution_count": null,
   "metadata": {},
   "outputs": [],
   "source": []
  }
 ],
 "metadata": {
  "kernelspec": {
   "display_name": "Python [conda root]",
   "language": "python",
   "name": "conda-root-py"
  },
  "language_info": {
   "codemirror_mode": {
    "name": "ipython",
    "version": 3
   },
   "file_extension": ".py",
   "mimetype": "text/x-python",
   "name": "python",
   "nbconvert_exporter": "python",
   "pygments_lexer": "ipython3",
   "version": "3.5.0"
  }
 },
 "nbformat": 4,
 "nbformat_minor": 2
}
