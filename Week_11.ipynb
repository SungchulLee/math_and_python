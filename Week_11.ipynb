{
 "cells": [
  {
   "cell_type": "code",
   "execution_count": 2,
   "metadata": {},
   "outputs": [
    {
     "name": "stdout",
     "output_type": "stream",
     "text": [
      "[1, 2, 3, 2, 1] + [3, 0, 2, -1, 0]= [4, 2, 5, 1, 1]\n",
      "\n",
      "[3, 0, 2, -1, 0] - [1, 2, 3, 2, 1]= [2, -2, -1, -3, -1]\n",
      "\n",
      "[1, 2, 3, 2, 1] * [3, 0, 2, -1, 0]= [3, 0, 6, -2, 0]\n"
     ]
    }
   ],
   "source": [
    "# 최성훈\n",
    "\n",
    "class Vector:\n",
    "\n",
    "    def __init__(self, data):\n",
    "\n",
    "        self.data = data\n",
    "\n",
    "    def __str__(self):\n",
    "\n",
    "        return repr(self.data)\n",
    "\n",
    "    def __add__(self, other):\n",
    "\n",
    "        data = []\n",
    "\n",
    "        for j in range(len(self.data)):\n",
    "\n",
    "            data.append(self.data[j] + other.data[j])\n",
    "\n",
    "        return Vector(data)\n",
    "\n",
    "    def __sub__(self, other):\n",
    "\n",
    "        data = []\n",
    "\n",
    "        for j in range(len(self.data)):\n",
    "\n",
    "            data.append(self.data[j] - other.data[j])\n",
    "\n",
    "        return Vector(data)\n",
    "\n",
    "   \n",
    "   \n",
    "    def __mul__(self, other):\n",
    "\n",
    "        data = []\n",
    "\n",
    "        for j in range(len(self.data)):\n",
    "\n",
    "            data.append(self.data[j] * other.data[j])\n",
    "\n",
    "        return Vector(data)\n",
    "\n",
    "    \n",
    "x = Vector([1, 2, 3, 2, 1])\n",
    "y = Vector([3, 0, 2, -1, 0])\n",
    "\n",
    "print(\"{} + {}= {}\".format(x, y, x + y))\n",
    "print()\n",
    "print(\"{} - {}= {}\".format(y, x, y - x))\n",
    "print()\n",
    "print(\"{} * {}= {}\".format(x, y, x * y))\n"
   ]
  },
  {
   "cell_type": "code",
   "execution_count": 5,
   "metadata": {},
   "outputs": [
    {
     "name": "stdout",
     "output_type": "stream",
     "text": [
      "사각형의 면적 60000\n",
      "사각형의 둘레 1000\n",
      "rectange with left down point (0, 0), width 300, height 200\n",
      "Rectangle(0, 0, 300, 200)\n"
     ]
    }
   ],
   "source": [
    "# 강영수\n",
    "\n",
    "class Shape:\n",
    "    def __init__(self, x, y):\n",
    "        self.x = x\n",
    "        self.y = y\n",
    "        \n",
    "    def area(self) :\n",
    "        print(\"계산할 수 없음!\")\n",
    "    def perimeter(self):\n",
    "        print(\"계산할 수 없음!\")\n",
    "        \n",
    "class Rectangle(Shape):                 # Shape클래스를 상속받아서 Rectangle클래스를 작성.\n",
    "    def __init__(self, x, y, w, h):\n",
    "        super(). __init__(x, y)        # 부모 클래스의 생성자 호출.\n",
    "        self.w = w\n",
    "        self.h = h\n",
    "        \n",
    "    def area(self):\n",
    "        return self.w*self.h      # area()메소드를 override함.\n",
    "    \n",
    "    def perimeter(self):\n",
    "        return 2*(self.w + self.h)\n",
    "    \n",
    "    def left_down(self):\n",
    "        return (self.x, self.y)\n",
    "    \n",
    "    def left_up(self):\n",
    "        return (self.x, self.y+self.h)\n",
    "    \n",
    "    def right_down(self):\n",
    "        return (self.x+self.w, self.y)\n",
    "    \n",
    "    def right_up(self):\n",
    "        return (self.x+self.w, self.y+self.h)\n",
    "    \n",
    "    def __str__(self):\n",
    "        msg = 'rectange with left down point {}, width {}, height {}' \n",
    "        return msg.format((self.x, self.y), self.w, self.h)\n",
    "    \n",
    "    def __repr__(self):\n",
    "        return 'Rectangle({}, {}, {}, {})'.format(self.x, self.y, self.w, self.h)\n",
    "    \n",
    "r = Rectangle (0, 0, 300, 200)\n",
    "\n",
    "print(\"사각형의 면적\", r.area())\n",
    "print(\"사각형의 둘레\", r.perimeter())\n",
    "print(r.__str__())\n",
    "print(r.__repr__())"
   ]
  },
  {
   "cell_type": "code",
   "execution_count": 6,
   "metadata": {},
   "outputs": [
    {
     "name": "stdout",
     "output_type": "stream",
     "text": [
      "사각형의 면적 60000\n",
      "사각형의 둘레 1000\n",
      "rectange with left down point (0, 0), width 300, height 200\n",
      "Rectangle(0, 0, 300, 200)\n"
     ]
    }
   ],
   "source": [
    "x = Rectangle(0, 0, 300, 200)\n",
    "print(\"사각형의 면적\", x.area())\n",
    "print(\"사각형의 둘레\", x.perimeter())\n",
    "print(x.__str__())\n",
    "print(x.__repr__())"
   ]
  },
  {
   "cell_type": "code",
   "execution_count": null,
   "metadata": {},
   "outputs": [],
   "source": []
  }
 ],
 "metadata": {
  "kernelspec": {
   "display_name": "Python [conda env:anaconda3]",
   "language": "python",
   "name": "conda-env-anaconda3-py"
  },
  "language_info": {
   "codemirror_mode": {
    "name": "ipython",
    "version": 3
   },
   "file_extension": ".py",
   "mimetype": "text/x-python",
   "name": "python",
   "nbconvert_exporter": "python",
   "pygments_lexer": "ipython3",
   "version": "3.5.0"
  }
 },
 "nbformat": 4,
 "nbformat_minor": 2
}
