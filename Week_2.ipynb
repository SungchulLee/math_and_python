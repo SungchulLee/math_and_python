{
 "cells": [
  {
   "cell_type": "code",
   "execution_count": null,
   "metadata": {},
   "outputs": [],
   "source": []
  },
  {
   "cell_type": "code",
   "execution_count": 1,
   "metadata": {},
   "outputs": [
    {
     "name": "stdout",
     "output_type": "stream",
     "text": [
      "벡터1의 값 입력: 숫자사이 띄어쓰기 1.1 2.2 3.3\n",
      "\n",
      "벡터2의 값 입력: 숫자사이 띄어쓰기 0.9 1.1 2.3\n",
      "\n",
      "\n",
      "\n",
      "벡터의 내적\n",
      "\n",
      "(1.1, 2.2, 3.3) * (0.9, 1.1, 2.3) = 11.0\n"
     ]
    }
   ],
   "source": [
    "# 최성훈\n",
    "# 벡터의 내적\n",
    "\n",
    "a1, a2, a3 = input(\"벡터1의 값 입력: 숫자사이 띄어쓰기 \").split()\n",
    "print()\n",
    "b1, b2, b3 = input(\"벡터2의 값 입력: 숫자사이 띄어쓰기 \").split()\n",
    "\n",
    "a1 = eval(a1)\n",
    "a2 = eval(a2)\n",
    "a3 = eval(a3)\n",
    "#a = (\"({},{},{})\".format(a1,a2,a3)) -> a = string\n",
    "a =(a1,a2,a3)\n",
    "print()\n",
    "#print(a)\n",
    "#print(type(a))\n",
    "\n",
    "\n",
    "b1 = eval(b1)\n",
    "b2 = eval(b2)\n",
    "b3 = eval(b3)\n",
    "\n",
    "print()\n",
    "b = (b1,b2,b3)\n",
    "print()\n",
    "\n",
    "print(\"벡터의 내적\")\n",
    "print()\n",
    "\n",
    "y = []\n",
    "for i in range(3):\n",
    "    k = a[i]*b[i]\n",
    "    y.append(k)\n",
    "\n",
    "    \n",
    "print(a,\"*\",b,\"=\",sum(y))"
   ]
  },
  {
   "cell_type": "code",
   "execution_count": 4,
   "metadata": {},
   "outputs": [
    {
     "name": "stdout",
     "output_type": "stream",
     "text": [
      "['1.1', '2.2', '3.3']\n",
      "<class 'list'>\n"
     ]
    }
   ],
   "source": [
    "a = '1.1 2.2 3.3'.split()\n",
    "print(a)\n",
    "print(type(a))"
   ]
  },
  {
   "cell_type": "code",
   "execution_count": 5,
   "metadata": {},
   "outputs": [
    {
     "name": "stdout",
     "output_type": "stream",
     "text": [
      "1.1\n",
      "<class 'str'>\n"
     ]
    }
   ],
   "source": [
    "# packing and unpacking \n",
    "# https://www.youtube.com/watch?v=UYTdjHYNqx8\n",
    "\n",
    "a, b, c = '1.1 2.2 3.3'.split()\n",
    "print(a)\n",
    "print(type(a))"
   ]
  },
  {
   "cell_type": "code",
   "execution_count": 6,
   "metadata": {},
   "outputs": [
    {
     "name": "stdout",
     "output_type": "stream",
     "text": [
      "(1, 2, 3)\n",
      "<class 'tuple'>\n"
     ]
    }
   ],
   "source": [
    "a = 1, 2, 3\n",
    "\n",
    "print(a)\n",
    "print(type(a))"
   ]
  },
  {
   "cell_type": "code",
   "execution_count": 8,
   "metadata": {},
   "outputs": [
    {
     "name": "stdout",
     "output_type": "stream",
     "text": [
      "벡터1의 값 입력: 숫자들 사이에 빈칸을 주세요.1.1 2.2 3.3\n",
      "벡터2의 값 입력: 숫자들 사이에 빈칸을 주세요.0.9 1.1 2.3\n",
      "\n",
      "벡터의 내적\n",
      "\n",
      "a  :  [1.1 2.2 3.3]\n",
      "b  :  [0.9 1.1 2.3]\n",
      "ab :  11.0\n"
     ]
    }
   ],
   "source": [
    "import numpy as np\n",
    "\n",
    "a1, a2, a3 = input(\"벡터1의 값 입력: 숫자들 사이에 빈칸을 주세요.\").split()\n",
    "b1, b2, b3 = input(\"벡터2의 값 입력: 숫자들 사이에 빈칸을 주세요.\").split()\n",
    "\n",
    "a1 = eval(a1)\n",
    "a2 = eval(a2)\n",
    "a3 = eval(a3)\n",
    "a = np.array([a1,a2,a3])\n",
    "\n",
    "b1 = eval(b1)\n",
    "b2 = eval(b2)\n",
    "b3 = eval(b3)\n",
    "b = np.array([b1,b2,b3])\n",
    "\n",
    "print()\n",
    "print(\"벡터의 내적\")\n",
    "print()\n",
    "\n",
    "print(\"a  : \", a)\n",
    "print(\"b  : \", b)\n",
    "print(\"ab : \", np.dot(a,b))"
   ]
  },
  {
   "cell_type": "code",
   "execution_count": 9,
   "metadata": {},
   "outputs": [
    {
     "name": "stdout",
     "output_type": "stream",
     "text": [
      "문제\n",
      "[1, 2, 3, 4, 5]\n",
      "위에 주어진 항에 3을 더하여 계산하시오.\n",
      "\n",
      "정답\n",
      "[4, 5, 6, 7, 8]\n",
      "\n"
     ]
    }
   ],
   "source": [
    "#박소현\n",
    "# (for loop)\n",
    "\n",
    "a = [1,2,3,4,5]\n",
    "b = [ ]\n",
    "for i in a:\n",
    "    b.append(i+3)\n",
    "\n",
    "\n",
    "print('문제')\n",
    "print(a)\n",
    "print('위에 주어진 항에 3을 더하여 계산하시오.')\n",
    "print()\n",
    "    \n",
    "print('정답')\n",
    "print(b)\n",
    "print()"
   ]
  },
  {
   "cell_type": "code",
   "execution_count": 10,
   "metadata": {},
   "outputs": [
    {
     "name": "stdout",
     "output_type": "stream",
     "text": [
      "주어진 리스트의 각각의 항에 3을 더하여 계산하시오.\n",
      "[1, 2, 3, 4, 5]\n",
      "[4 5 6 7 8]\n"
     ]
    }
   ],
   "source": [
    "print('주어진 리스트의 각각의 항에 3을 더하여 계산하시오.')\n",
    "\n",
    "a = [1,2,3,4,5]\n",
    "print(a)\n",
    "\n",
    "a = np.array(a)\n",
    "b = a + 3\n",
    "print(b)"
   ]
  },
  {
   "cell_type": "code",
   "execution_count": 7,
   "metadata": {},
   "outputs": [
    {
     "name": "stdout",
     "output_type": "stream",
     "text": [
      "[[1, 0, 0, 0], [2, 3, 0, 0], [4, 5, 6, 0], [7, 8, 9, 10]]\n",
      "[[1, 2, 4, 7], [0, 3, 5, 8], [0, 0, 6, 9], [0, 0, 0, 10]]\n"
     ]
    }
   ],
   "source": [
    "# 최승준\n",
    "# matrix transpose\n",
    "\n",
    "x = [[1,0,0,0], [2,3,0,0], [4,5,6,0], [7,8,9,10]]\n",
    "y = [[], [], [], []]\n",
    "for i in range(len(x)) :\n",
    "    for j in x:\n",
    "        try: \n",
    "            y[i].append(j[i])\n",
    "        except: \n",
    "            pass\n",
    "        \n",
    "print(x)\n",
    "print(y)"
   ]
  },
  {
   "cell_type": "code",
   "execution_count": 8,
   "metadata": {},
   "outputs": [
    {
     "name": "stdout",
     "output_type": "stream",
     "text": [
      "[[ 1  0  0  0]\n",
      " [ 2  3  0  0]\n",
      " [ 4  5  6  0]\n",
      " [ 7  8  9 10]]\n",
      "[[ 1  2  4  7]\n",
      " [ 0  3  5  8]\n",
      " [ 0  0  6  9]\n",
      " [ 0  0  0 10]]\n"
     ]
    }
   ],
   "source": [
    "import numpy as np\n",
    "\n",
    "x = np.array([[1,0,0,0], [2,3,0,0], [4,5,6,0], [7,8,9,10]])\n",
    "y = x.T\n",
    "        \n",
    "print(x)\n",
    "print(y)"
   ]
  },
  {
   "cell_type": "code",
   "execution_count": 11,
   "metadata": {},
   "outputs": [
    {
     "name": "stdout",
     "output_type": "stream",
     "text": [
      "{'can', 'bus', 'korea', 'school', 'egg'}\n",
      "['can', 'egg', 'bus', 'school', 'bus', 'korea']\n",
      "<class 'set'>\n",
      "<class 'list'>\n",
      "5\n",
      "6\n",
      "{'b', 'a', 'e', 'd', 'c', 'f'}\n",
      "{'c'}\n"
     ]
    }
   ],
   "source": [
    "# 이미나\n",
    "\n",
    "x = {'can', 'egg', 'bus', 'school', 'bus', 'korea'}\n",
    "y = ['can', 'egg', 'bus', 'school', 'bus', 'korea']\n",
    "print(x)\n",
    "print(y)\n",
    "print(type(x))\n",
    "print(type(y))\n",
    "print(len(x))    #원소의 개수\n",
    "print(len(y))\n",
    "\n",
    "\n",
    "x = {'a', 'b', 'c'}\n",
    "y = {'c', 'd', 'e', 'f'}\n",
    "print(x|y)   # 합집합\n",
    "print(x&y)   # 교집합"
   ]
  },
  {
   "cell_type": "code",
   "execution_count": 12,
   "metadata": {},
   "outputs": [
    {
     "name": "stdout",
     "output_type": "stream",
     "text": [
      "팀 이름 : A\n",
      "승률 = 0.5769230769230769\n"
     ]
    }
   ],
   "source": [
    "# 한제희\n",
    "\n",
    "A = {'승': 45, '패':33, '무승부':0}\n",
    "B = {'승': 44, '패':29, '무승부':5}\n",
    "C = {'승': 41, '패':32, '무승부':5}\n",
    "\n",
    "# https://www.w3schools.com/python/ref_func_eval.asp\n",
    "# The eval() function evaluates the specified expression, \n",
    "# if the expression is a legal Python statement, it will be executed.\n",
    "x = input('팀 이름 : ')\n",
    "x = eval(x)\n",
    "\n",
    "print('승률 =', x['승']/(x['승']+x['패']))"
   ]
  },
  {
   "cell_type": "code",
   "execution_count": 13,
   "metadata": {},
   "outputs": [
    {
     "name": "stdout",
     "output_type": "stream",
     "text": [
      "55\n"
     ]
    }
   ],
   "source": [
    "x = 'print(55)'\n",
    "eval(x)"
   ]
  },
  {
   "cell_type": "code",
   "execution_count": 9,
   "metadata": {},
   "outputs": [
    {
     "name": "stdout",
     "output_type": "stream",
     "text": [
      "[1, 4, 7, 10, 13, 16, 19, 22, 25, 28, 31, 34, 37, 40, 43, 46, 49]\n",
      "[2, 5, 8, 11, 14, 17, 20, 23, 26, 29, 32, 35, 38, 41, 44, 47]\n",
      "[3, 6, 9, 12, 15, 18, 21, 24, 27, 30, 33, 36, 39, 42, 45, 48]\n"
     ]
    }
   ],
   "source": [
    "# 박영욱\n",
    "\n",
    "a = [m  for m in range(1,50) if m % 3 == 1]\n",
    "b = [l  for l in range(1,50) if l % 3 == 2]\n",
    "c = [n  for n in range(1,50) if n % 3 == 0]\n",
    "print(a)\n",
    "print(b)\n",
    "print(c)"
   ]
  },
  {
   "cell_type": "code",
   "execution_count": 10,
   "metadata": {},
   "outputs": [
    {
     "name": "stdout",
     "output_type": "stream",
     "text": [
      "[1, 2, 3, 4, 5, 6, 7, 8, 9, 10, 11, 12, 13, 14, 15, 16, 17, 18, 19, 20]\n",
      "[6, 12, 30, 42, 72, 90, 132, 156, 210, 240, 306, 342, 420]\n"
     ]
    }
   ],
   "source": [
    "# 박영욱\n",
    "\n",
    "u = [x for x in range(1,21)]\n",
    "a = [a ** 2 + a for a in range(1,21) if (a ** 2 + a) % 3 == 0]\n",
    "print(u)\n",
    "print(a)"
   ]
  },
  {
   "cell_type": "code",
   "execution_count": 12,
   "metadata": {},
   "outputs": [
    {
     "name": "stdout",
     "output_type": "stream",
     "text": [
      "[1, 2, 3, 4, 5, 6, 7, 8, 9, 10]\n",
      "[10, 9, 8, 7, 6, 5, 4, 3, 2, 1]\n",
      "[1, 2, 3, 4, 5, 6, 7, 8, 9, 10, 10, 9, 8, 7, 6, 5, 4, 3, 2, 1]\n",
      "[10, 9, 8, 7, 6, 5, 4, 3, 2, 1, 1, 2, 3, 4, 5, 6, 7, 8, 9, 10]\n"
     ]
    }
   ],
   "source": [
    "# 박영욱\n",
    "\n",
    "a = [x for x in range(1,11)]\n",
    "b = [y for y in range(10,0,-1)]\n",
    "print(a)\n",
    "print(b)\n",
    "\n",
    "# list concatanation\n",
    "print(a+b)\n",
    "print(b+a)"
   ]
  },
  {
   "cell_type": "code",
   "execution_count": 23,
   "metadata": {},
   "outputs": [
    {
     "name": "stdout",
     "output_type": "stream",
     "text": [
      "Length: 15.0 cm Time Period: 0.77734 s\n",
      "Length: 18.0 cm Time Period: 0.85154 s\n",
      "Length: 21.0 cm Time Period: 0.91976 s\n",
      "Length: 22.5 cm Time Period: 0.95205 s\n",
      "Length: 25.0 cm Time Period: 1.00354 s\n",
      "Length: 27.0 cm Time Period: 1.04291 s\n"
     ]
    }
   ],
   "source": [
    "# 박영욱\n",
    "\n",
    "import numpy as np\n",
    "\n",
    "def time_period(length):\n",
    "    g = 9.8\n",
    "    T = 2 * np.pi * np.sqrt(length / g)\n",
    "    return T\n",
    "\n",
    "L = (15, 18, 21, 22.5, 25, 27)\n",
    "\n",
    "for e in L:\n",
    "    t = time_period(e/100)\n",
    "    msg = 'Length: {} cm Time Period: {:.5f} s' \n",
    "    print(msg.format(float(e), float(t)))"
   ]
  },
  {
   "cell_type": "code",
   "execution_count": 14,
   "metadata": {},
   "outputs": [
    {
     "name": "stdout",
     "output_type": "stream",
     "text": [
      "1 1 2 3 5 8 13 21 34 55 89 144 233 377 610 987 1597 2584 4181 6765 10946 17711 28657 46368 75025 121393 196418 317811 514229 832040 1346269 2178309 3524578 5702887 9227465 14930352 24157817 39088169 63245986 102334155 165580141 267914296 433494437 701408733 1134903170 1836311903 2971215073 4807526976 7778742049 12586269025 20365011074 32951280099 53316291173 86267571272 139583862445 225851433717 365435296162 591286729879 956722026041 1548008755920 2504730781961 4052739537881 6557470319842 10610209857723 17167680177565 27777890035288 44945570212853 72723460248141 117669030460994 190392490709135 308061521170129 498454011879264 806515533049393 1304969544928657 2111485077978050 3416454622906707 5527939700884757 8944394323791464 14472334024676221 23416728348467685 37889062373143906 61305790721611591 99194853094755497 160500643816367088 259695496911122585 420196140727489673 679891637638612258 1100087778366101931 1779979416004714189 2880067194370816120 4660046610375530309 7540113804746346429 12200160415121876738 19740274219868223167 31940434634990099905 51680708854858323072 83621143489848422977 135301852344706746049 218922995834555169026 354224848179261915075 "
     ]
    }
   ],
   "source": [
    "# 강영수\n",
    "# 피보나치\n",
    "\n",
    "a = 1\n",
    "b = 1\n",
    "print(a, b, end=\" \")\n",
    "for i in range(3,101):\n",
    "    c = a + b\n",
    "    print(c, end=\" \")\n",
    "    a = b\n",
    "    b = c"
   ]
  },
  {
   "cell_type": "code",
   "execution_count": 27,
   "metadata": {},
   "outputs": [
    {
     "name": "stdout",
     "output_type": "stream",
     "text": [
      "0 1 2 "
     ]
    }
   ],
   "source": [
    "for i in range(3):\n",
    "    print(i, end=' ')"
   ]
  },
  {
   "cell_type": "code",
   "execution_count": 28,
   "metadata": {},
   "outputs": [
    {
     "name": "stdout",
     "output_type": "stream",
     "text": [
      "[1, 2, 3]\n",
      "4\n",
      "1\n",
      "['a', 'b', 'c']\n",
      "['a', 'b', 'c']\n",
      "a\n",
      "b\n",
      "c\n",
      "is\n",
      "[1, 2]\n",
      "[1, 2]\n",
      "[3, 4, 5]\n",
      "[3, ['a', 'b', 'c'], 4]\n",
      "['a']\n"
     ]
    }
   ],
   "source": [
    "# 어정규\n",
    "\n",
    "f = [1, 2, 3]  \n",
    "print(f)\n",
    "print(f[0] + f[2])\n",
    "\n",
    "g = [1, 2, 3, ['a', 'b', 'c']]\n",
    "print(g[0])\n",
    "print(g[-1])\n",
    "print(g[3])\n",
    "print(g[-1][0])\n",
    "print(g[-1][1])\n",
    "print(g[-1][2])\n",
    "\n",
    "h = [1, 2, ['a', 'b', ['Life', 'is']]]\n",
    "print(h[2][2][1])\n",
    "\n",
    "i = [1,2,3,4,5]\n",
    "print(i[0:2])\n",
    "\n",
    "a = [1, 2, 3, 4, 5]\n",
    "b = a[:2]\n",
    "c = a[2:]\n",
    "print(b)\n",
    "print(c)\n",
    "\n",
    "a = [1,2,3,['a','b','c'],4,5]\n",
    "print(a[2:5])\n",
    "print(a[3][:1])"
   ]
  },
  {
   "cell_type": "code",
   "execution_count": null,
   "metadata": {},
   "outputs": [],
   "source": []
  }
 ],
 "metadata": {
  "kernelspec": {
   "display_name": "Python 3",
   "language": "python",
   "name": "python3"
  },
  "language_info": {
   "codemirror_mode": {
    "name": "ipython",
    "version": 3
   },
   "file_extension": ".py",
   "mimetype": "text/x-python",
   "name": "python",
   "nbconvert_exporter": "python",
   "pygments_lexer": "ipython3",
   "version": "3.5.0"
  }
 },
 "nbformat": 4,
 "nbformat_minor": 2
}
